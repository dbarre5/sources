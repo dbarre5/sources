{
 "cells": [
  {
   "cell_type": "code",
   "execution_count": 81,
   "metadata": {},
   "outputs": [
    {
     "name": "stdout",
     "output_type": "stream",
     "text": [
      "26.743719162591436\n"
     ]
    },
    {
     "data": {
      "image/png": "[encoded data removed]",
      "text/plain": [
       "<Figure size 432x288 with 1 Axes>"
      ]
     },
     "metadata": {
      "needs_background": "light"
     },
     "output_type": "display_data"
    }
   ],
   "source": [
    "import numpy as np\n",
    "import matplotlib.pyplot as plt\n",
    "\n",
    "#Calculate Reynolds number from Free stream velocity(U), kinematic viscosity (v), and characteristic length\n",
    "def Re(U,nu,L):\n",
    "    return U * L / nu\n",
    "\n",
    "#Calculate Prandtl Number \n",
    "def Pr(mu,Cp,k):\n",
    "    return mu * Cp / k\n",
    "\n",
    "#kinematic viscosity from density (rho) and dynamic viscosity (mu)\n",
    "def nu(rho,mu):\n",
    "    return mu / rho\n",
    "\n",
    "def mu(rho,nu):\n",
    "    return nu * rho\n",
    "\n",
    "#Calculate Nusselt Number over isothermal plate: the dimensionless heat transfer coefficient\n",
    "# Equation 1.52,1.57\n",
    "def NusseltPlate(h,L,kf,Re,Pr):\n",
    "    if h*L*kf == 0 and Re*Pr == 0:\n",
    "        raise TypeError('Incorrect use of Nu() function: Type FunctionHelp() or th.FunctionHelp() for help on how to use this function')   \n",
    "    elif h*L*kf != 0:\n",
    "        output = h * L / kf \n",
    "    else:\n",
    "        if Re < 5000:\n",
    "            if Pr <= 0.6:\n",
    "                raise TypeError('This function uses correlations that expect your Prandlt Number to be greater than 0.6')\n",
    "            else:\n",
    "                output = 0.664*Re**(0.5)*Pr**(1/3)\n",
    "        elif Re < 10**8:\n",
    "            if Pr <= 0.6 or Pr >= 60:\n",
    "                raise TypeError('This function uses correlations that expect 0.6<=Pr<=60')\n",
    "            else:\n",
    "                output = 0.037*Re**(0.8)*Pr**(1/3)                \n",
    "        else:\n",
    "                raise TypeError('This function uses correlations that expect your Reynolds Number to be less than 10^8')     \n",
    "    return output\n",
    "\n",
    "\n",
    "#ALL IN SI UNITS\n",
    "t = 3.28*10**(-5) #initial thickness of plate\n",
    "U = 1.5 #free stream velocity of air flowing over plate\n",
    "k_al = 237 #thermal conductivity of aluminum\n",
    "k_air = 0.0283 #thermal conductivity of air\n",
    "Prt = 0.703 #Prandtl number\n",
    "nu = 23.42 * 10**(-6) #kinematic viscosity of air\n",
    "L = 2.5*10**(-2) #Width of fin\n",
    "b = 5.4*10**(-2) # Extrusion length of fin\n",
    "\n",
    "h = k_air/L*NusseltPlate(0,0,k_air,Re(U,nu,L),Prt)\n",
    "print(h)\n",
    "\n",
    "Tb = 85\n",
    "Tamb = 22\n",
    "theta_b = Tb-Tamb\n",
    "\n",
    "#initialize some arrays which will store thickness and heat rate\n",
    "n = 100\n",
    "tA = np.zeros(n)\n",
    "qA = np.zeros(n)\n",
    "\n",
    "for i in range(1,n):\n",
    "    tA[i] = t0*i\n",
    "    #print(tA[i])\n",
    "    V = b*tA[i]*L #Volume of fin\n",
    "    mb = V/(L)*(2*h/k_al/(tA[i])**3)**0.5\n",
    "    a = (h*2*(L+tA[i])*k_al*L*tA[i])**(0.5)*theta_b\n",
    "    qA[i] = a*np.tanh(mb) #heat rate\n",
    "    #print(qA[i])\n",
    "\n",
    "plt.plot(tA,qA)\n",
    "plt.title('Heat Rate plot')\n",
    "plt.ylabel('q, Watts')\n",
    "plt.xlabel('Thickness, m')\n",
    "plt.axis([0, max(tA), 0, 1.2*max(qA)])\n",
    "plt.show()"
   ]
  },
  {
   "cell_type": "code",
   "execution_count": null,
   "metadata": {},
   "outputs": [],
   "source": []
  },
  {
   "cell_type": "code",
   "execution_count": null,
   "metadata": {},
   "outputs": [],
   "source": []
  }
 ],
 "metadata": {
  "kernelspec": {
   "display_name": "Python 3",
   "language": "python",
   "name": "python3"
  },
  "language_info": {
   "codemirror_mode": {
    "name": "ipython",
    "version": 3
   },
   "file_extension": ".py",
   "mimetype": "text/x-python",
   "name": "python",
   "nbconvert_exporter": "python",
   "pygments_lexer": "ipython3",
   "version": "3.7.3"
  }
 },
 "nbformat": 4,
 "nbformat_minor": 2
}
