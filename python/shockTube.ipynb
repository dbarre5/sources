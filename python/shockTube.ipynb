{
 "cells": [
  {
   "cell_type": "code",
   "execution_count": 16,
   "metadata": {},
   "outputs": [],
   "source": [
    "import sys\n",
    "import numpy as np\n",
    "import matplotlib.pyplot as plt\n",
    "\n",
    "R = 1; # universal gas constant divided by molecular mass\n",
    "gamma = 1.4; #ratio of specific heat coefficients\n",
    "x0 = 0.5 #Film location\n",
    "M = 81 #number of points\n",
    "\n",
    "\n",
    "#Dimensionless left and right parameters\n",
    "rhoR = 1;\n",
    "pR = 1/gamma;\n",
    "TR = 1/gamma;\n",
    "aR = 1;\n",
    "UR = 0;\n",
    "\n",
    "rhoL = 8;\n",
    "pL = 10/gamma;\n",
    "TL=0;\n",
    "aL=(gamma*pL/rhoL)**0.5;\n",
    "UL=0;\n"
   ]
  },
  {
   "cell_type": "code",
   "execution_count": 17,
   "metadata": {},
   "outputs": [],
   "source": [
    "#Compatibility equation\n",
    "def shockTubeFunction(x):\n",
    "    a = x-1/x\n",
    "    b = aL*(gamma+1)/(gamma-1)\n",
    "    c = pR/pL\n",
    "    d = (2*gamma/(gamma+1))*x**2\n",
    "    e = (gamma-1)/(gamma+1)\n",
    "    f = (gamma-1)/(2*gamma)\n",
    "    \n",
    "    calculatedValue = b*(1-(c*(d-e))**f) - a\n",
    "    return calculatedValue\n",
    "\n",
    "#Using root finding method, bisection method\n",
    "def bisectionMethodShockTube(lowerBoundGuess,upperBoundGuess,percentErrorTolerance):\n",
    "    #initialize error\n",
    "    absoluteError = abs(upperBoundGuess-lowerBoundGuess)/2\n",
    "    \n",
    "    #Check to see if root is bracketed from initial guesses\n",
    "    equationLower = shockTubeFunction(lowerBoundGuess)\n",
    "    equationUpper = shockTubeFunction(upperBoundGuess)\n",
    "    if (equationLower*equationUpper) > 0.:\n",
    "        print(\"Root has not been bracketed with your guesses. Terminating script...\")\n",
    "        sys.exit()\n",
    "    \n",
    "    while absoluteError >= percentErrorTolerance:\n",
    "        midPoint = (lowerBoundGuess+upperBoundGuess)/2 #bisect upper and lower guesses\n",
    "        equationLower = shockTubeFunction(lowerBoundGuess)\n",
    "        equationUpper = shockTubeFunction(upperBoundGuess)\n",
    "        equationMid = shockTubeFunction(midPoint)\n",
    "        \n",
    "        if (equationLower*equationMid) < 0:\n",
    "            upperBoundGuess = midPoint\n",
    "        else:\n",
    "            lowerBoundGuess = midPoint\n",
    "        \n",
    "        #bisection method, so cut error in half every iteration\n",
    "        absoluteError=absoluteError/2\n",
    "    \n",
    "    return midPoint\n",
    "    \n"
   ]
  },
  {
   "cell_type": "code",
   "execution_count": 18,
   "metadata": {},
   "outputs": [],
   "source": [
    "def plotShockTube(M,x0,t):\n",
    "    \n",
    "    Ms = bisectionMethodShockTube(1,2,0.000001)\n",
    "\n",
    "    p1 = ((2*gamma/(gamma+1)*Ms**2)-(gamma-1)/(gamma+1))*pR;\n",
    "    rho1 = (rhoR)/((2/((gamma+1)*Ms**2))+(gamma-1)/(gamma+1));\n",
    "    U1=(2/(gamma+1))*(Ms-1/Ms);\n",
    "\n",
    "    U2 = U1\n",
    "    p2 = p1\n",
    "\n",
    "\n",
    "    rho2 = rhoL*(p2/pL)**(1/gamma)\n",
    "    a2 = (gamma*p2/rho2)**0.5\n",
    "    \n",
    "    x1 = x0 - aL*t\n",
    "    x2 = x0 + (U2 - a2)*t\n",
    "    x3 = x0 +U2*t\n",
    "    x4 = x0 + Ms*t\n",
    "    \n",
    "    xLoc = np.zeros(M+1)\n",
    "    p = np.zeros(M+1)\n",
    "    rho = np.zeros(M+1)\n",
    "    U = np.zeros(M+1)\n",
    "    \n",
    "    for i in range(M+1):\n",
    "        xLoc[i] = i/M\n",
    "        uExpansion = 2/(gamma+1)*(aL+(xLoc[i]-x0)/t)\n",
    "        aExpansion = aL - (gamma-1)*uExpansion/2\n",
    "        pExpansion = pL * (aExpansion/aL)**(2*gamma/(gamma-1))\n",
    "        rhoExpansion = rhoL*(pExpansion/pL)**(1/gamma)\n",
    "        if xLoc[i] < x1:\n",
    "            p[i] = pL\n",
    "            rho[i] = rhoL\n",
    "            U[i] = UL\n",
    "        elif xLoc[i] < x2:\n",
    "            p[i] = pExpansion\n",
    "            rho[i] = rhoExpansion\n",
    "            U[i] = uExpansion\n",
    "        elif xLoc[i] < x3:\n",
    "            p[i] = p2\n",
    "            rho[i] = rho2\n",
    "            U[i] = U2\n",
    "        elif xLoc[i] < x4:\n",
    "            p[i] = p1\n",
    "            rho[i] = rho1\n",
    "            U[i] = U1\n",
    "        else:\n",
    "            p[i] = pR\n",
    "            rho[i] = rhoR\n",
    "            U[i] = UR\n",
    "        \n",
    "    plt.plot(xLoc,p)\n",
    "    plt.title('dimensionless pressure')\n",
    "    plt.ylabel('p')\n",
    "    plt.xlabel('x')\n",
    "    plt.axis([0, max(xLoc), 0, 1.2*max(p)])\n",
    "    plt.show()\n",
    "    \n",
    "    plt.plot(xLoc,rho)\n",
    "    plt.title('dimensionless density')\n",
    "    plt.ylabel('rho')\n",
    "    plt.xlabel('x')\n",
    "    plt.axis([0, max(xLoc), 0, 1.2*max(rho)])\n",
    "    plt.show()\n",
    "    \n",
    "    plt.plot(xLoc,U)\n",
    "    plt.ylabel('U')\n",
    "    plt.title('dimensionless velocity')\n",
    "    plt.xlabel('x')\n",
    "    plt.axis([0, max(xLoc), 0, 1.2*max(U)])\n",
    "    plt.show()"
   ]
  },
  {
   "cell_type": "code",
   "execution_count": 19,
   "metadata": {},
   "outputs": [
    {
     "data": {
      "image/png": "[encoded data removed]",
      "text/plain": [
       "<Figure size 432x288 with 1 Axes>"
      ]
     },
     "metadata": {
      "needs_background": "light"
     },
     "output_type": "display_data"
    },
    {
     "data": {
      "image/png": "[encoded data removed]",
      "text/plain": [
       "<Figure size 432x288 with 1 Axes>"
      ]
     },
     "metadata": {
      "needs_background": "light"
     },
     "output_type": "display_data"
    },
    {
     "data": {
      "image/png": "[encoded data removed]",
      "text/plain": [
       "<Figure size 432x288 with 1 Axes>"
      ]
     },
     "metadata": {
      "needs_background": "light"
     },
     "output_type": "display_data"
    }
   ],
   "source": [
    "plotShockTube(81,0.5,0.2)"
   ]
  },
  {
   "cell_type": "code",
   "execution_count": null,
   "metadata": {},
   "outputs": [],
   "source": []
  },
  {
   "cell_type": "code",
   "execution_count": null,
   "metadata": {},
   "outputs": [],
   "source": []
  }
 ],
 "metadata": {
  "kernelspec": {
   "display_name": "Python 3",
   "language": "python",
   "name": "python3"
  },
  "language_info": {
   "codemirror_mode": {
    "name": "ipython",
    "version": 3
   },
   "file_extension": ".py",
   "mimetype": "text/x-python",
   "name": "python",
   "nbconvert_exporter": "python",
   "pygments_lexer": "ipython3",
   "version": "3.7.3"
  }
 },
 "nbformat": 4,
 "nbformat_minor": 2
}
